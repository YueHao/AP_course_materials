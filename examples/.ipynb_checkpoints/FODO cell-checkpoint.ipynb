{
 "cells": [
  {
   "cell_type": "code",
   "execution_count": 5,
   "metadata": {},
   "outputs": [],
   "source": [
    "import sympy\n",
    "sympy.init_printing(use_unicode=True)"
   ]
  },
  {
   "cell_type": "markdown",
   "metadata": {},
   "source": [
    "## Example: FODO cells"
   ]
  },
  {
   "cell_type": "markdown",
   "metadata": {},
   "source": [
    "FODO cell is a type of widely used cell of magnets.  It consist of only two quadrupoles and two dipoles or simply drifts between quads.  To make a symmetric cell, we use the following sequence:\n",
    "$$\\frac{1}{2}\\text{QF}-\\text{O}-\\text{QD}-\\text{O}-\\frac{1}{2}\\text{QF}$$\n"
   ]
  },
  {
   "cell_type": "markdown",
   "metadata": {},
   "source": [
    "### Betatron transfer matrix"
   ]
  },
  {
   "cell_type": "markdown",
   "metadata": {},
   "source": [
    "We use the following approximation:\n",
    "* Small bending angle approximation: the transfer matrix for a dipole reduces to a drift space, the space between quads are same, which is $L_1$\n",
    "* Short quadrupole approximation, so that the quad can be modeled by its focusing length $f$\n",
    "* Focusing length and defocusing length are same.\n",
    "\n",
    "Then the matrix is\n",
    "\\begin{equation}\n",
    "M_{FODO}=\n",
    "\\left(\\begin{array}{cc}\n",
    "1 & 0\\\\\n",
    "-\\frac{1}{2f} & 1\n",
    "\\end{array}\\right)\n",
    "\\left(\\begin{array}{cc}\n",
    "1 & L_1\\\\\n",
    "0 & 1\n",
    "\\end{array}\\right)\n",
    "\\left(\\begin{array}{cc}\n",
    "1 & 0\\\\\n",
    "\\frac{1}{f} & 1\n",
    "\\end{array}\\right)\n",
    "\\left(\\begin{array}{cc}\n",
    "1 & L_1\\\\\n",
    "0 & 1\n",
    "\\end{array}\\right)\n",
    "\\left(\\begin{array}{cc}\n",
    "1 & 0\\\\\n",
    "-\\frac{1}{2f} & 1\n",
    "\\end{array}\\right)\n",
    "\\end{equation}"
   ]
  },
  {
   "cell_type": "code",
   "execution_count": 13,
   "metadata": {},
   "outputs": [
    {
     "data": {
      "image/png": "[encoded data removed]",
      "text/latex": [
       "$$\\left[\\begin{matrix}- \\frac{L_{1}^{2}}{2 f^{2}} + 1 & \\frac{L_{1}}{f} \\left(L_{1} + 2 f\\right)\\\\\\frac{L_{1}}{4 f^{3}} \\left(L_{1} - 2 f\\right) & - \\frac{L_{1}^{2}}{2 f^{2}} + 1\\end{matrix}\\right]$$"
      ],
      "text/plain": [
       "⎡     2                      ⎤\n",
       "⎢   L₁          L₁⋅(L₁ + 2⋅f)⎥\n",
       "⎢ - ──── + 1    ─────────────⎥\n",
       "⎢      2              f      ⎥\n",
       "⎢   2⋅f                      ⎥\n",
       "⎢                            ⎥\n",
       "⎢                    2       ⎥\n",
       "⎢L₁⋅(L₁ - 2⋅f)     L₁        ⎥\n",
       "⎢─────────────   - ──── + 1  ⎥\n",
       "⎢        3            2      ⎥\n",
       "⎣     4⋅f          2⋅f       ⎦"
      ]
     },
     "execution_count": 13,
     "metadata": {},
     "output_type": "execute_result"
    }
   ],
   "source": [
    "l,f=sympy.symbols(\"L_1,f\")\n",
    "def mat_q(f):\n",
    "    return sympy.Matrix([[1,0],[1/f,1]])\n",
    "def mat_d(d):\n",
    "    return sympy.Matrix([[1,d],[0,1]])\n",
    "mat_fodo=sympy.simplify(mat_q(-2*f)*mat_d(l)*mat_q(f)*mat_d(l)*mat_q(-2*f))\n",
    "mat_fodo"
   ]
  },
  {
   "cell_type": "markdown",
   "metadata": {},
   "source": [
    "The transfer matrix to/from the mid-point of the focusing quad is \n",
    "\\begin{equation}\n",
    "M_{FODO}=\n",
    "\\left(\\begin{matrix}- \\frac{L_{1}^{2}}{2 f^{2}} + 1 & \\frac{L_{1}}{f} \\left(L_{1} + 2 f\\right)\\\\\\frac{L_{1}}{4 f^{3}} \\left(L_{1} - 2 f\\right) & - \\frac{L_{1}^{2}}{2 f^{2}} + 1\\end{matrix}\\right)\n",
    "\\end{equation}\n",
    "\n",
    "The determinant of the matrix is always 1.  The trace of the FODO cell is \n",
    "$2- \\frac{L_{1}^{2}}{ f^{2}} $.  \n",
    "\n",
    "\n",
    "\n"
   ]
  },
  {
   "cell_type": "markdown",
   "metadata": {},
   "source": [
    "The starting point can be choose arbitrarily.  If we use the midpoint of the defocusing quad:"
   ]
  },
  {
   "cell_type": "code",
   "execution_count": 19,
   "metadata": {},
   "outputs": [
    {
     "data": {
      "image/png": "[encoded data removed]",
      "text/latex": [
       "$$\\left[\\begin{matrix}- \\frac{L_{1}^{2}}{2 f^{2}} + 1 & \\frac{L_{1}}{f} \\left(- L_{1} + 2 f\\right)\\\\- \\frac{L_{1}}{4 f^{3}} \\left(L_{1} + 2 f\\right) & - \\frac{L_{1}^{2}}{2 f^{2}} + 1\\end{matrix}\\right]$$"
      ],
      "text/plain": [
       "⎡      2                        ⎤\n",
       "⎢    L₁           L₁⋅(-L₁ + 2⋅f)⎥\n",
       "⎢  - ──── + 1     ──────────────⎥\n",
       "⎢       2               f       ⎥\n",
       "⎢    2⋅f                        ⎥\n",
       "⎢                               ⎥\n",
       "⎢                       2       ⎥\n",
       "⎢-L₁⋅(L₁ + 2⋅f)       L₁        ⎥\n",
       "⎢───────────────    - ──── + 1  ⎥\n",
       "⎢         3              2      ⎥\n",
       "⎣      4⋅f            2⋅f       ⎦"
      ]
     },
     "execution_count": 19,
     "metadata": {},
     "output_type": "execute_result"
    }
   ],
   "source": [
    "mat_fodo_2=sympy.simplify(mat_q(2*f)*mat_d(l)*mat_q(-f)*mat_d(l)*mat_q(2*f))\n",
    "mat_fodo_2\n"
   ]
  },
  {
   "cell_type": "markdown",
   "metadata": {},
   "source": [
    "The transfer matrix becomes:\n",
    "\\begin{equation}\n",
    "M_{FODO,midQD}=\n",
    "\\left(\\begin{matrix}- \\frac{L_{1}^{2}}{2 f^{2}} + 1 & \\frac{L_{1}}{f} \\left(- L_{1} + 2 f\\right)\\\\- \\frac{L_{1}}{4 f^{3}} \\left(L_{1} + 2 f\\right) & - \\frac{L_{1}^{2}}{2 f^{2}} + 1\\end{matrix}\\right)\n",
    "\\end{equation}\n",
    "\n",
    "The trace remain unchanged."
   ]
  },
  {
   "cell_type": "code",
   "execution_count": 23,
   "metadata": {},
   "outputs": [
    {
     "data": {
      "image/png": "[encoded data removed]",
      "text/latex": [
       "$$\\left[\\begin{matrix}\\frac{1}{f} \\left(- L_{1} + f\\right) & \\frac{L_{1}}{f} \\left(- L_{1} + 2 f\\right)\\\\- \\frac{L_{1}}{f^{2}} & - \\frac{L_{1}^{2}}{f^{2}} + \\frac{L_{1}}{f} + 1\\end{matrix}\\right]$$"
      ],
      "text/plain": [
       "⎡-L₁ + f  L₁⋅(-L₁ + 2⋅f)⎤\n",
       "⎢───────  ──────────────⎥\n",
       "⎢   f           f       ⎥\n",
       "⎢                       ⎥\n",
       "⎢             2         ⎥\n",
       "⎢ -L₁       L₁    L₁    ⎥\n",
       "⎢ ────    - ─── + ── + 1⎥\n",
       "⎢   2         2   f     ⎥\n",
       "⎣  f         f          ⎦"
      ]
     },
     "execution_count": 23,
     "metadata": {},
     "output_type": "execute_result"
    }
   ],
   "source": [
    "mat_fodo_3=sympy.simplify(mat_q(f)*mat_d(l)*mat_q(-f)*mat_d(l))\n",
    "mat_fodo_3"
   ]
  },
  {
   "cell_type": "markdown",
   "metadata": {},
   "source": [
    "If we set the starting point right after the focusing quadrupole, the matrix becomes\n",
    "\\begin{equation}\n",
    "M_{FODO,afterQF}=\n",
    "\\left(\\begin{matrix}\\frac{1}{f} \\left(- L_{1} + f\\right) & \\frac{L_{1}}{f} \\left(- L_{1} + 2 f\\right)\\\\- \\frac{L_{1}}{f^{2}} & - \\frac{L_{1}^{2}}{f^{2}} + \\frac{L_{1}}{f} + 1\\end{matrix}\\right)\n",
    "\\end{equation}\n",
    "\n",
    "Again the trace remain unchanged.  That is a natural result since trace of the product of matrices is an invariant under cyclic permutation."
   ]
  },
  {
   "cell_type": "markdown",
   "metadata": {},
   "source": [
    "### Use FODO cell in repeating structure"
   ]
  },
  {
   "cell_type": "markdown",
   "metadata": {},
   "source": [
    "To use the FODO cell many time in a repeating structure, the trace has to be larger than $-2$.  Therefore:\n",
    "$$- \\frac{L_{1}^{2}}{2 f^{2}} + 1 > -1 $$\n",
    "which reduces to:\n",
    "$$L_1<2f$$\n",
    "\n",
    "Then we can get the optics parameters of the one-turn matrix:\n",
    "$$\n",
    "M=\\left(\\begin{array}{cc}\n",
    "\\cos\\phi+\\alpha\\sin\\phi & \\beta\\sin\\phi\\\\\n",
    "-\\gamma\\sin\\phi & \\cos\\phi-\\alpha\\sin\\phi\n",
    "\\end{array}\\right)\n",
    "$$\n",
    "\n",
    "Then the betatron phase advance can be calculated from:\n",
    "\\begin{equation}\n",
    "\\cos{\\phi}=\\frac{1}{2}\\operatorname{tr}(M)=1-\\frac{L_1^2}{2f^2}\n",
    "\\end{equation}\n",
    "\n",
    "or \n",
    "\\begin{equation}\n",
    "\\sin{\\frac{\\phi}{2}}=\\frac{L_1}{2f}\n",
    "\\end{equation}\n",
    "\n",
    "The trace is an invariant under changing the starting piont, so does the phase advance."
   ]
  },
  {
   "cell_type": "markdown",
   "metadata": {},
   "source": [
    "The optical function can be calculated at different locations by:\n",
    "\\begin{align}\n",
    "\\beta  &= \\frac{M_{12}}{\\sin\\phi}\\\\\n",
    "\\alpha &= \\frac{M_{11}-M_{22}}{2\\sin\\phi}\n",
    "\\end{align}"
   ]
  },
  {
   "cell_type": "markdown",
   "metadata": {},
   "source": [
    "At the middle point of the QD or QF we have:\n",
    "\\begin{align}\n",
    "\\beta_{F/D}  &= \\frac{2L_1\\left(1\\pm\\sin(\\phi/2)\\right)}{\\sin\\phi}\\\\\n",
    "\\alpha &= 0\n",
    "\\end{align}\n",
    "\n",
    "Right after the focusing quad, we have:\n",
    "\\begin{align}\n",
    "\\beta  &= \\frac{2L_1\\left(1-\\sin(\\phi/2)\\right)}{\\sin\\phi}\\\\\n",
    "\\alpha &= \\frac{L_1}{f}\\frac{\\sin(\\phi/2)-1}{\\sin\\phi}\n",
    "\\end{align}"
   ]
  },
  {
   "cell_type": "markdown",
   "metadata": {},
   "source": [
    "### Dispersion in FODO cells"
   ]
  },
  {
   "cell_type": "markdown",
   "metadata": {},
   "source": [
    "Let's consider the FODO cells with small bending angle approximation, starting from the mid point of the focusing quad.  The extended $3\\times 3$ matrix $\\mathcal{M}$ gives\n",
    "\n",
    "\\begin{equation}\n",
    "\\mathcal{M}_{FODO}=\n",
    "\\left(\\begin{array}{cc}\n",
    "1 & 0 & 0\\\\\n",
    "-\\frac{1}{2f} & 1 & 0\\\\\n",
    "0 & 0 & 1\n",
    "\\end{array}\\right)\n",
    "\\left(\\begin{array}{cc}\n",
    "1 & L_1 & L_1 \\theta/2\\\\\n",
    "0 & 1 & \\theta \\\\\n",
    "0 & 0 & 1\n",
    "\\end{array}\\right)\n",
    "\\left(\\begin{array}{cc}\n",
    "1 & 0 & 0\\\\\n",
    "\\frac{1}{f} & 1 & 0\\\\\n",
    "0 & 0 & 1\n",
    "\\end{array}\\right)\n",
    "\\left(\\begin{array}{cc}\n",
    "1 & L_1 & L_1 \\theta/2\\\\\n",
    "0 & 1 & \\theta \\\\\n",
    "0 & 0 & 1\n",
    "\\end{array}\\right)\n",
    "\\left(\\begin{array}{cc}\n",
    "1 & 0 & 0\\\\\n",
    "-\\frac{1}{2f} & 1 & 0\\\\\n",
    "0 & 0 & 1\n",
    "\\end{array}\\right)\n",
    "\\end{equation}"
   ]
  },
  {
   "cell_type": "code",
   "execution_count": 29,
   "metadata": {},
   "outputs": [
    {
     "data": {
      "image/png": "[encoded data removed]",
      "text/latex": [
       "$$\\left[\\begin{matrix}- \\frac{L_{1}^{2}}{2 f^{2}} + 1 & \\frac{L_{1}}{f} \\left(L_{1} + 2 f\\right) & \\frac{L_{1} \\theta}{2 f} \\left(L_{1} + 4 f\\right)\\\\\\frac{L_{1}}{4 f^{3}} \\left(L_{1} - 2 f\\right) & - \\frac{L_{1}^{2}}{2 f^{2}} + 1 & \\frac{\\theta}{4 f^{2}} \\left(- L_{1}^{2} - 2 L_{1} f + 8 f^{2}\\right)\\\\0 & 0 & 1\\end{matrix}\\right]$$"
      ],
      "text/plain": [
       "⎡     2                                                      ⎤\n",
       "⎢   L₁          L₁⋅(L₁ + 2⋅f)       L₁⋅\\theta⋅(L₁ + 4⋅f)     ⎥\n",
       "⎢ - ──── + 1    ─────────────       ────────────────────     ⎥\n",
       "⎢      2              f                     2⋅f              ⎥\n",
       "⎢   2⋅f                                                      ⎥\n",
       "⎢                                                            ⎥\n",
       "⎢                    2                ⎛    2               2⎞⎥\n",
       "⎢L₁⋅(L₁ - 2⋅f)     L₁          \\theta⋅⎝- L₁  - 2⋅L₁⋅f + 8⋅f ⎠⎥\n",
       "⎢─────────────   - ──── + 1    ──────────────────────────────⎥\n",
       "⎢        3            2                        2             ⎥\n",
       "⎢     4⋅f          2⋅f                      4⋅f              ⎥\n",
       "⎢                                                            ⎥\n",
       "⎣      0              0                      1               ⎦"
      ]
     },
     "execution_count": 29,
     "metadata": {},
     "output_type": "execute_result"
    }
   ],
   "source": [
    "t=sympy.symbols(\"\\\\theta\")\n",
    "def matd_q(f):\n",
    "    return sympy.Matrix([[1,0,0],[1/f,1,0],[0,0,1]])\n",
    "def matd_d(d, ang):\n",
    "    return sympy.Matrix([[1,d,d*ang/2],[0,1,ang],[0,0,1]])\n",
    "mat_fodo=sympy.simplify(matd_q(-2*f)*matd_d(l,t)*matd_q(f)*matd_d(l,t)*matd_q(-2*f))\n",
    "mat_fodo"
   ]
  },
  {
   "cell_type": "code",
   "execution_count": 50,
   "metadata": {},
   "outputs": [
    {
     "data": {
      "image/png": "[encoded data removed]",
      "text/latex": [
       "$$\\left[\\begin{matrix}\\frac{\\theta}{2 \\sin(\\phi/2)} \\left(L_{1} + \\frac{2 L_{1}}{\\sin(\\phi/2)}\\right)\\\\0\\end{matrix}\\right]$$"
      ],
      "text/plain": [
       "⎡       ⎛         2⋅L₁    ⎞⎤\n",
       "⎢\\theta⋅⎜L₁ + ────────────⎟⎥\n",
       "⎢       ⎝     \\sin(\\phi/2)⎠⎥\n",
       "⎢──────────────────────────⎥\n",
       "⎢      2⋅\\sin(\\phi/2)      ⎥\n",
       "⎢                          ⎥\n",
       "⎣            0             ⎦"
      ]
     },
     "execution_count": 50,
     "metadata": {},
     "output_type": "execute_result"
    }
   ],
   "source": [
    "s=sympy.symbols('\\sin(\\phi/2)')\n",
    "sympy.simplify(sympy.Inverse(sympy.eye(2)-mat_fodo[:2,:2])*mat_fodo[:2,2]).subs(f, l/2/s)"
   ]
  },
  {
   "cell_type": "markdown",
   "metadata": {},
   "source": [
    "The matrix $\\mathcal{M}$ of FODO cell gives\n",
    "\\begin{equation}\n",
    "\\mathcal{M}_{FODO}=\n",
    "\\left(\\begin{matrix}- \\frac{L_{1}^{2}}{2 f^{2}} + 1 & \\frac{L_{1}}{f} \\left(L_{1} + 2 f\\right) & \\frac{L_{1} \\theta}{2 f} \\left(L_{1} + 4 f\\right)\\\\\\frac{L_{1}}{4 f^{3}} \\left(L_{1} - 2 f\\right) & - \\frac{L_{1}^{2}}{2 f^{2}} + 1 & \\frac{\\theta}{4 f^{2}} \\left(- L_{1}^{2} - 2 L_{1} f + 8 f^{2}\\right)\\\\0 & 0 & 1\\end{matrix}\\right)\n",
    "\\end{equation}\n",
    "\n",
    "The dispersion function in periodical boundary condition gives:\n",
    "\\begin{equation}\n",
    "\\left(\\begin{array}{c}\n",
    "D\\\\\n",
    "D'\n",
    "\\end{array}\\right) _{midQF}= \n",
    "\\left(\\begin{matrix}\\frac{L_1\\theta}{2 \\sin(\\phi/2)} \\left(1 + \\frac{2}{\\sin(\\phi/2)}\\right)\\\\0\\end{matrix}\\right)\n",
    "\\end{equation}\n",
    "\n",
    "One can easily get the dispersion function at the middle point of the defocusing quad as: \n",
    "\\begin{equation}\n",
    "\\left(\\begin{array}{c}\n",
    "D\\\\\n",
    "D'\n",
    "\\end{array}\\right)_{midQD} = \n",
    "\\left(\\begin{matrix}\\frac{L_1\\theta}{2 \\sin(\\phi/2)} \\left(1 - \\frac{2}{\\sin(\\phi/2)}\\right)\\\\0\\end{matrix}\\right)\n",
    "\\end{equation}"
   ]
  },
  {
   "cell_type": "code",
   "execution_count": null,
   "metadata": {},
   "outputs": [],
   "source": []
  }
 ],
 "metadata": {
  "kernelspec": {
   "display_name": "Python 3",
   "language": "python",
   "name": "python3"
  },
  "language_info": {
   "codemirror_mode": {
    "name": "ipython",
    "version": 3
   },
   "file_extension": ".py",
   "mimetype": "text/x-python",
   "name": "python",
   "nbconvert_exporter": "python",
   "pygments_lexer": "ipython3",
   "version": "3.6.3"
  },
  "toc": {
   "nav_menu": {},
   "number_sections": true,
   "sideBar": true,
   "skip_h1_title": false,
   "toc_cell": false,
   "toc_position": {},
   "toc_section_display": "block",
   "toc_window_display": true
  }
 },
 "nbformat": 4,
 "nbformat_minor": 2
}
