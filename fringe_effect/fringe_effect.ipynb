{
 "cells": [
  {
   "cell_type": "markdown",
   "metadata": {},
   "source": [
    "# Fringe Effects"
   ]
  },
  {
   "cell_type": "markdown",
   "metadata": {},
   "source": [
    "## Fringe Effect of Dipole\n",
    "<img src=dipole_edge.png width=400>\n",
    "\n",
    "We will model the effect of the dipole edge on the beam.  The general edge of a dipole is defined in the above figure, with $\\beta_{1/2}$ and $R_{1/2}$ as the angle and radius of the reference particle entrance and exit. In this section we only discuss the effect of the surface angle. In order not to confuse with the betatron function, we use $E_{1/2}$ as the entrance and exit angle below.  These are the same notations as the popular modeling tools, such as MADX and Elegant."
   ]
  },
  {
   "cell_type": "markdown",
   "metadata": {},
   "source": [
    "<img src=edge_angle.png width=400>\n",
    "Let's consider this simple hard edge model with entrance angle $\\theta$.  When the pole face is perpendicular to the reference orbit.  The dipole is a sector dipole.  The transfer matrix is given as \n",
    "\n",
    "\\begin{equation}\n",
    "M_{sector}=\\left(\\begin{array}{cc}\n",
    "\\cos\\theta & \\rho\\sin\\theta\\\\\n",
    "-\\frac{1}{\\rho}\\sin\\theta & \\cos\\theta\n",
    "\\end{array}\\right)\n",
    "\\end{equation}\n",
    "\n",
    "If the edge effect can be also represented by a matrix, then the matrix for a non-sector dipole can be written as:\n",
    "\\begin{equation}\n",
    "M=M_{exit}M_{sector}M_{entrance}\n",
    "\\end{equation}\n",
    "\n",
    "The effect in the horizontal plane is straight forward from the above figure.  For positive $E_1$, as shown in the figure, a particle with positive $x$ will hit the edge slower than the reference particle.  At the time of arrival, the reference already start to rotate.  The rotate angle is:\n",
    "$$\n",
    "\\Delta\\theta=\\frac{x \\tan E_1}{\\rho+x}\\approx \\frac{x \\tan E_1}{\\rho}\n",
    "$$\n",
    "Here we only keep the linear term.\n",
    "\n",
    "Equivalently, the particle with horizontal offset at a kick of $\\Delta x'=\\Delta\\theta$.  Therefore, the edge effect is similar to a quad:\n",
    "\\begin{align}\n",
    "M_{x,entrance}&=\\left(\\begin{array}{cc}\n",
    "1 & 0\\\\\n",
    "\\frac{\\tan{E_1}}{\\rho} & 1\n",
    "\\end{array}\\right)\\\\\n",
    "M_{x,exit}&=\\left(\\begin{array}{cc}\n",
    "1 & 0\\\\\n",
    "\\frac{\\tan{E_2}}{\\rho} & 1\n",
    "\\end{array}\\right) \\label{eq:edge_focusing}\n",
    "\\end{align}"
   ]
  },
  {
   "cell_type": "markdown",
   "metadata": {},
   "source": [
    "The vertical edge effect is related to the horizontal one since:\n",
    "\\begin{align}\n",
    "\\Delta x'&=-\\frac{1}{p_0}\\int_{-\\Delta t}^{\\Delta t} v_zB_y dt\\\\\n",
    "\\Delta y'&=\\frac{1}{p_0}\\int_{-\\Delta t}^{\\Delta t} v_zB_x dt\n",
    "\\end{align}\n",
    "From vanishing curl of the magnetic field, we have \n",
    "$$\n",
    "\\frac{\\partial B_x}{\\partial y}=\\frac{\\partial B_y}{\\partial x}\n",
    "$$\n",
    "Then \n",
    "$$\n",
    "\\frac{\\partial x'}{\\partial x}=-\\frac{\\partial y'}{\\partial y}\n",
    "$$\n",
    "\n",
    "We get edge focusing matrix for vertical direction as:\n",
    "\\begin{align}\n",
    "M_{y,entrance}&=\\left(\\begin{array}{cc}\n",
    "1 & 0\\\\\n",
    "-\\frac{\\tan{E_1}}{\\rho} & 1\n",
    "\\end{array}\\right)\\\\\n",
    "M_{y,exit}&=\\left(\\begin{array}{cc}\n",
    "1 & 0\\\\\n",
    "-\\frac{\\tan{E_2}}{\\rho} & 1\n",
    "\\end{array}\\right)\n",
    "\\end{align}\n",
    "which provides an opposite focusing effect as the horizontal one as in Eq.$\\ref{eq:edge_focusing}$"
   ]
  },
  {
   "cell_type": "code",
   "execution_count": null,
   "metadata": {},
   "outputs": [],
   "source": []
  }
 ],
 "metadata": {
  "kernelspec": {
   "display_name": "Python 3",
   "language": "python",
   "name": "python3"
  },
  "language_info": {
   "codemirror_mode": {
    "name": "ipython",
    "version": 3
   },
   "file_extension": ".py",
   "mimetype": "text/x-python",
   "name": "python",
   "nbconvert_exporter": "python",
   "pygments_lexer": "ipython3",
   "version": "3.7.6"
  },
  "latex_envs": {
   "LaTeX_envs_menu_present": true,
   "autoclose": false,
   "autocomplete": true,
   "bibliofile": "biblio.bib",
   "cite_by": "apalike",
   "current_citInitial": 1,
   "eqLabelWithNumbers": true,
   "eqNumInitial": 1,
   "hotkeys": {
    "equation": "Ctrl-E",
    "itemize": "Ctrl-I"
   },
   "labels_anchors": false,
   "latex_user_defs": false,
   "report_style_numbering": true,
   "user_envs_cfg": false
  },
  "toc": {
   "base_numbering": 1,
   "nav_menu": {},
   "number_sections": true,
   "sideBar": true,
   "skip_h1_title": false,
   "title_cell": "Table of Contents",
   "title_sidebar": "Contents",
   "toc_cell": false,
   "toc_position": {},
   "toc_section_display": "block",
   "toc_window_display": true
  }
 },
 "nbformat": 4,
 "nbformat_minor": 2
}
