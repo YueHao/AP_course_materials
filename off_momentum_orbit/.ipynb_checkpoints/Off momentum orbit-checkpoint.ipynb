{
 "cells": [
  {
   "cell_type": "markdown",
   "metadata": {},
   "source": [
    "# Off Momentum Orbit"
   ]
  },
  {
   "cell_type": "markdown",
   "metadata": {},
   "source": [
    "So far, we discussed the transverse dynamics for the particles with reference energy, or \n",
    "$$\\delta = \\frac{\\Delta p}{p_0}=0$$\n",
    "\n",
    "In this section, we will explore the transverse orbit properties for those particles with small momentum deviation $\\delta$"
   ]
  },
  {
   "cell_type": "markdown",
   "metadata": {},
   "source": [
    "## Revisit the Hamiltonian"
   ]
  },
  {
   "cell_type": "markdown",
   "metadata": {},
   "source": [
    "Let us recall the exact Hamiltonian has the form:\n",
    "$$K\\left(x, p_x, y, p_y, z, \\delta,s\\right)=-\\left(1+\\frac{x}{\\rho}\\right)\\sqrt{(1+\\delta)^2-p_x^2-p_y^2} \n",
    "-e\\frac{A_s}{p_0}\\left(1+\\frac{x}{\\rho}\\right)\n",
    "$$\n",
    "\n",
    "With the paraxial approximation: \n",
    "\\begin{equation}\n",
    "K\\left(x, p_x, y, p_y, z, \\delta,s\\right)=\n",
    "-\\left(1+\\frac{x}{\\rho}\\right)\\left(1+\\delta-\\frac{p_x^2}{2(1+\\delta)}-\\frac{p_y^2}{2(1+\\delta)}\\right)\n",
    "-e\\frac{A_s}{p_0}\\left(1+\\frac{x}{\\rho}\\right)\n",
    "\\end{equation}"
   ]
  },
  {
   "cell_type": "markdown",
   "metadata": {},
   "source": [
    "Keeping only up to the linear term of $delta$ and $x/\\rho$, and using $$A_{s,d}\\approx-B_0\\left(x - \\frac{x^2}{2\\rho}\\right)$$, $$A_{s,q}=-B_0 b_1(s) \\left(x^2-y^2\\right)/2=-G(s)\\left(x^2-y^2\\right)/2$$, we get: \n",
    "\\begin{align}\n",
    "K\\left(x, p_x, y, p_y, z, \\delta,s\\right)&=\n",
    "-\\left(1+\\frac{x}{\\rho}\\right)\\left(1+\\delta-\\frac{p_x^2}{2(1+\\delta)}-\\frac{p_y^2}{2(1+\\delta)}\\right)\n",
    "-e\\frac{A_s}{p_0}\\left(1+\\frac{x}{\\rho}\\right)\\\\\n",
    "&\\approx -1-\\delta-\\delta\\frac{x}{\\rho}+\\frac{p_x^2}{2}+\\frac{p_y^2}{2}+\\frac{x^2}{2\\rho^2}+k(s)\\left(x^2-y^2\\right)/2\n",
    "\\end{align}\n",
    "\n",
    "Here we assume $z$ and $delta$ are parameter, therefore constants.  The motion of $x$ any $y$ directions are still decoupled, and the Hamiltonian for the x direction is :\n",
    "$$\n",
    "K\\left(x, p_x\\right)=\\frac{p_x^2}{2}+\\frac{x^2}{2\\rho^2}+\\frac{k(s)x^2}{2}-\\delta\\frac{x}{\\rho}\n",
    "$$"
   ]
  },
  {
   "cell_type": "markdown",
   "metadata": {},
   "source": [
    "The equation of motion then becomes a non-homogeneous one :\n",
    "\\begin{equation}\n",
    "x''+\\left(\\frac{1}{\\rho^2}+k(s)\\right)x=\\frac{\\delta}{\\rho} \n",
    "\\end{equation}\n",
    "\n",
    "Clearly, the off-momentum orbit raises from the momentum deviation in the bending elements.\n",
    "If we write the solution as:\n",
    "$$\n",
    "x(s)=x_\\beta(s)+d(s)\\delta + \\mathcal{O}\\left(\\delta^2\\right)\n",
    "$$\n",
    "\n",
    "where $x_\\beta(s)$ satisfies the homogeneous Hill's equation:\n",
    "\\begin{equation}\n",
    "x''+\\left(\\frac{1}{\\rho^2}+k(s)\\right)x=0\n",
    "\\end{equation}\n",
    "\n",
    "The coefficient $d(s)=\\frac{\\partial x(s)}{\\partial \\delta}|_{\\delta=0}$ is the linear dispersion function, which is also depend on the design lattice.  It is the solution of the inhomogeneous ODE:\n",
    "\\begin{equation}\n",
    "d''+\\left(\\frac{1}{\\rho^2}+k(s)\\right)d=\\frac{1}{\\rho}\n",
    "\\end{equation}"
   ]
  },
  {
   "cell_type": "code",
   "execution_count": null,
   "metadata": {},
   "outputs": [],
   "source": []
  },
  {
   "cell_type": "code",
   "execution_count": null,
   "metadata": {},
   "outputs": [],
   "source": []
  }
 ],
 "metadata": {
  "kernelspec": {
   "display_name": "Python 3",
   "language": "python",
   "name": "python3"
  },
  "language_info": {
   "codemirror_mode": {
    "name": "ipython",
    "version": 3
   },
   "file_extension": ".py",
   "mimetype": "text/x-python",
   "name": "python",
   "nbconvert_exporter": "python",
   "pygments_lexer": "ipython3",
   "version": "3.6.3"
  },
  "toc": {
   "nav_menu": {},
   "number_sections": false,
   "sideBar": true,
   "skip_h1_title": false,
   "toc_cell": false,
   "toc_position": {},
   "toc_section_display": "block",
   "toc_window_display": true
  }
 },
 "nbformat": 4,
 "nbformat_minor": 2
}
