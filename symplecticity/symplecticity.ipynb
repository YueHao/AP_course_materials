{
 "cells": [
  {
   "cell_type": "markdown",
   "metadata": {},
   "source": [
    "## Primer on symplecticity"
   ]
  },
  {
   "cell_type": "markdown",
   "metadata": {},
   "source": [
    "### Symplectic condition"
   ]
  },
  {
   "cell_type": "markdown",
   "metadata": {},
   "source": [
    "For a N-dimensional Hamiltonian system ($\\mathbf{x}^N, \\mathbf{p}^N$), the N sets of Hamiltonian equation reads:\n",
    "\\begin{align}\n",
    "\\frac{dx_i}{dt}&=\\frac{\\partial H}{\\partial p_i}\\\\\n",
    "\\frac{dp_i}{dt}&=-\\frac{\\partial H}{\\partial x_i}\n",
    "\\end{align}\n",
    "\n",
    "Let's write a column vector $X=(x_1, p_1, x_2,p_2,\\cdots,x_N,p_n)$, the Hamiltonian can be written as:\n",
    "\\begin{align}\n",
    "\\frac{d}{dt}X & \\equiv S_N \\frac{\\partial H}{\\partial X}\n",
    "= \\left(\\begin{array}{cccc}\n",
    "S_{1} & 0 & \\cdots & 0\\\\\n",
    "0 & S_{1} & \\cdots & 0\\\\\n",
    "\\vdots & \\vdots & \\ddots & 0\\\\\n",
    "0 & 0 & 0 & S_{1}\n",
    "\\end{array}\\right)\n",
    "\\frac{\\partial H}{\\partial X}\n",
    "\\end{align}\n",
    "\n",
    "where $S_1$ is the matrix for one dimension space:\n",
    "\\begin{align}\n",
    " S_1\n",
    "= \\left(\\begin{array}{cc}\n",
    "0 & 1\\\\\n",
    "-1 & 0\n",
    "\\end{array}\\right)\n",
    "\\end{align}\n",
    "\n",
    "Later on lets ignore the subscript.  We found that the following facts about S\n",
    "* Determinant of S: \n",
    "\\begin{equation}\\left|S\\right|=1\\end{equation}\n",
    "* Inverse of $S$: \\begin{equation} S^{-1}=1 \\text{ or } S^2 = -I\\end{equation}\n",
    "* The transpose of $S$: \\begin{equation}S^T=-S\\end{equation}"
   ]
  },
  {
   "cell_type": "markdown",
   "metadata": {},
   "source": [
    "For a map from location $s_0$ to $s_1=s_0+s$, we have: \n",
    "\\begin{align}\n",
    "X\\left(s_1\\right)=M X\\left(s_0\\right)\n",
    "\\end{align}\n",
    "\n",
    "M is a matrix and the components is defined as:\n",
    "\\begin{align}\n",
    "M_{ij}=\\frac{\\partial X_i\\left(s_1\\right)}{ \\partial X_j\\left(s_0\\right)}\n",
    "\\end{align}\n",
    "\n",
    "If $M_{ij}$ are not functions of $X$, the map represents a linear map.  Otherwise $M$ is a non-linear map.  Regardless of the linearity, the condition that map $M$ need to follow due to the system is a Hamiltonian system is called **symplectic condition**.  We just explored the condition in 1-D case.  In N-D system, from the Map definition:\n",
    "\n",
    "\\begin{align}\n",
    "X\\left(s_1\\right)=M X\\left(s_0\\right)\n",
    "\\end{align}\n",
    "\n",
    "We take the derivative of the $i^{th}$ row of $X(s_1)$ with respect to $s$:\n",
    "\\begin{align}\n",
    "\\frac{dX_i\\left(s_1\\right)}{ds}\n",
    "&=\\frac{\\partial X_i\\left(s_1\\right)}{\\partial X_j\\left(s_0\\right)}\\frac{dX_j\\left(s_0\\right)}{ds}\\nonumber\\\\\n",
    "&=M_{ij}S_{jk}\\frac{\\partial H}{\\partial X_k\\left(s_0\\right)}\\nonumber\\\\\n",
    "&=M_{ij}S_{jk}\\frac{\\partial H}{\\partial X_l\\left(s_1\\right)}\\frac{\\partial X_l\\left(s_1\\right)}{\\partial X_k\\left(s_0\\right)}\\nonumber\\\\\n",
    "&=M_{ij}S_{jk}M_{kl}^T\\frac{\\partial H}{\\partial X_l\\left(s_1\\right)}\n",
    "\\end{align}\n",
    "\n",
    "We know that \n",
    "\n",
    "\\begin{equation}\n",
    "\\frac{dX_i\\left(s_1\\right)}{ds}=S_{il}\\frac{\\partial H}{\\partial X_l\\left(s_1\\right)}\n",
    "\\end{equation}\n",
    "\n",
    "Therefore we have \n",
    "\\begin{align}\n",
    "MSM^T=S\n",
    "\\end{align}\n",
    "Using the property of $S$, we have the usual form:\n",
    "\\begin{align}\n",
    "M^TSM=S \\label{eq:symplectic_form}\n",
    "\\end{align}\n",
    "\n",
    "The equation $\\ref{eq:symplectic_form}$ is referred as ***symplectic condition of a transfer map*** (not limited to matrix)."
   ]
  },
  {
   "cell_type": "markdown",
   "metadata": {},
   "source": [
    "### Properties of symplectic map"
   ]
  },
  {
   "cell_type": "markdown",
   "metadata": {},
   "source": [
    "The properties of the symplectic map:\n",
    "* If $M$ is symplectic, so does $M^T$ and $M^{-1}$.\n",
    "* If $M$ and $N$ are symplectic, so does $MN$.\n",
    "* If $\\lambda$ is an eigenvalue of a symplectic matrix $M$, so does $1/\\lambda$.\n",
    "* The determinant of symplectic map is 1."
   ]
  },
  {
   "cell_type": "markdown",
   "metadata": {},
   "source": [
    "### Block matrix for 2-D system"
   ]
  },
  {
   "cell_type": "markdown",
   "metadata": {},
   "source": [
    "Consider a 4-D phase space transfer map:\n",
    "\\begin{equation}\n",
    "\\left(\\begin{array}{c}\n",
    "x\\\\\n",
    "p_{x}\\\\\n",
    "z\\\\\n",
    "\\delta\n",
    "\\end{array}\\right)_{2}=\\left(\\begin{array}{cc}\n",
    "M_{1} & U\\\\\n",
    "V & M_{2}\n",
    "\\end{array}\\right)\\left(\\begin{array}{c}\n",
    "x\\\\\n",
    "p_{x}\\\\\n",
    "z\\\\\n",
    "\\delta\n",
    "\\end{array}\\right)_{1}\n",
    "\\end{equation}\n",
    "\n",
    "The transfer map has to satisfy the symplectic condition, both $M^TSM=S$ and $MSM^T=S$:\n",
    "\\begin{align}\n",
    "\\left(\\begin{array}{cc}\n",
    "M_{1} & U\\\\\n",
    "V & M_{2}\n",
    "\\end{array}\\right)^T\n",
    "\\left(\\begin{array}{cc}\n",
    "S_2 & 0\\\\\n",
    "0 & S_2\n",
    "\\end{array}\\right)\n",
    "\\left(\\begin{array}{cc}\n",
    "M_{1} & U\\\\\n",
    "V & M_{2}\n",
    "\\end{array}\\right)&=\n",
    "\\left(\\begin{array}{cc}\n",
    "S_2 & 0\\\\\n",
    "0 & S_2\n",
    "\\end{array}\\right) \\\\\n",
    "\\left(\\begin{array}{cc}\n",
    "M_1^TS_2M_1+V^T S_2 V & M_1^T S_2 U+V^T S_2 M_2\\\\\n",
    "U^T S_2 M_1 + M_2^T S_2 V & M_2^TS_2M_2+U^TS_2 U\n",
    "\\end{array}\\right)&=\n",
    "\\left(\\begin{array}{cc}\n",
    "S_2 & 0\\\\\n",
    "0 & S_2\n",
    "\\end{array}\\right)\n",
    "\\end{align}\n",
    "\n",
    "Therefore the following relation satisfy:\n",
    "\\begin{align}\n",
    "M_1^TS_2M_1+V^T S_2 V&=M_2^TS_2M_2+U^TS_2 U=S_2\\\\\n",
    "M_1^T S_2 U+V^T S_2 M_2&=U^T S_2 M_1 + M_2^T S_2 V=0 \n",
    "\\end{align}\n",
    "\n",
    "Change $M$ to $M^T$, we have\n",
    "\\begin{align}\n",
    "M_1 S_2 M_1^T+U S_2 U^T&=M_2 S_2 M_2^T+VS_2 V^T=S_2\\\\\n",
    "M_2 S_2 U^T+V S_2 M_1^T&=U S_2 M_2^T + M_1 S_2 V^T=0 \n",
    "\\end{align}"
   ]
  },
  {
   "cell_type": "code",
   "execution_count": 2,
   "metadata": {},
   "outputs": [
    {
     "data": {
      "image/png": "[encoded data removed]",
      "text/latex": [
       "$$\\left[\\begin{matrix}M_{1} S_{2} M_{1}^T + U S_{2} U^T & M_{1} S_{2} V^T + U S_{2} M_{2}^T\\\\M_{2} S_{2} U^T + V S_{2} M_{1}^T & M_{2} S_{2} M_{2}^T + V S_{2} V^T\\end{matrix}\\right]$$"
      ],
      "text/plain": [
       "⎡        T         T         T          T⎤\n",
       "⎢M₁⋅S₂⋅M₁  + U⋅S₂⋅U   M₁⋅S₂⋅V  + U⋅S₂⋅M₂ ⎥\n",
       "⎢                                        ⎥\n",
       "⎢       T          T          T         T⎥\n",
       "⎣M₂⋅S₂⋅U  + V⋅S₂⋅M₁   M₂⋅S₂⋅M₂  + V⋅S₂⋅V ⎦"
      ]
     },
     "execution_count": 2,
     "metadata": {},
     "output_type": "execute_result"
    }
   ],
   "source": [
    "import sympy \n",
    "sympy.init_printing(use_unicode=True)\n",
    "a=sympy.MatrixSymbol('M_1', 2,2)\n",
    "b=sympy.MatrixSymbol('U', 2,2)\n",
    "c=sympy.MatrixSymbol('V', 2,2)\n",
    "d=sympy.MatrixSymbol('M_2', 2,2)\n",
    "s_2=sympy.MatrixSymbol('S_2', 2,2)\n",
    "#s_2=sympy.Matrix([[0,1],[-1,0]])\n",
    "zero=sympy.ZeroMatrix(2,2)\n",
    "M=sympy.BlockMatrix([[a,b],[c,d]])\n",
    "ss=sympy.BlockMatrix([[s_2,zero],[zero,s_2]])\n",
    "sympy.block_collapse(M*ss*M.T)\n",
    "\n",
    "#s_2=sympy.Matrix([[0,1],[-1,0]])\n",
    "#a,b,c,d=sympy.symbols('a b c d')\n",
    "#u,v,x,y=sympy.symbols('u v x y')\n",
    "#ma=sympy.Matrix([[a,b],[c,d]])\n",
    "#mb=sympy.Matrix([[u,v],[x,y]])\n",
    "#mb.T*s_2*ma"
   ]
  },
  {
   "cell_type": "markdown",
   "metadata": {},
   "source": [
    "From the general property of 2-by-2 matrix $A$:\n",
    "\\begin{align}\n",
    "A^TS_2A=AS_2A^T=\n",
    "\\left(\\begin{array}{cc}\n",
    "0 & \\det A\\\\\n",
    "-\\det A & 0\n",
    "\\end{array}\\right)\n",
    "\\end{align}\n",
    "\n",
    "We know that:\n",
    "\\begin{align}\n",
    "\\det M_1 + \\det V=\\det M_2 + \\det U &=1\\\\\n",
    "\\det M_2 + \\det V=\\det M_1 + \\det U &=1\n",
    "\\end{align}\n",
    "\n",
    "Therefore, we always have:\n",
    "\\begin{align}\n",
    "\\det M_1  = \\det M_2 &\\equiv a\\\\\n",
    "\\det U = \\det V &\\equiv b\\\\\n",
    "a+b&=1\n",
    "\\end{align}"
   ]
  },
  {
   "cell_type": "markdown",
   "metadata": {},
   "source": [
    "If we are exploring $x$-$z$ or $y$-$z$ phase space, the matrix $U$ usually has the form below for DC magnets:\n",
    "\\begin{align}\n",
    "U=\n",
    "\\left(\\begin{array}{cc}\n",
    "\\begin{array}{c}\n",
    "0\\\\\n",
    "0\n",
    "\\end{array} & d=\\left(\\begin{array}{c}\n",
    "d_{1}\\\\\n",
    "d_{2}\n",
    "\\end{array}\\right)\\end{array}\\right)\n",
    "\\end{align}\n",
    "\n",
    "Then \n",
    "\\begin{align}\n",
    "\\det M_1  = \\det M_2 &=1\\\\\n",
    "\\det U = \\det V &=0\n",
    "\\end{align}\n",
    "\n",
    "And from\n",
    "\\begin{align}\n",
    "M_1^T S_2 U+V^T S_2 M_2=0\n",
    "\\end{align}\n",
    "\n",
    "We have\n",
    "\\begin{align}\n",
    "V=M_2 S_2 U^T S_2 M_1\n",
    "\\end{align}\n"
   ]
  },
  {
   "cell_type": "markdown",
   "metadata": {},
   "source": [
    "### Block matrix for 3-D system"
   ]
  },
  {
   "cell_type": "markdown",
   "metadata": {},
   "source": [
    "Consider a 6-D phase space transfer map:\n",
    "\\begin{equation}\n",
    "\\left(\\begin{array}{c}\n",
    "x\\\\\n",
    "p_{x}\\\\\n",
    "y\\\\\n",
    "p_{y}\\\\\n",
    "z\\\\\n",
    "\\delta\n",
    "\\end{array}\\right)_{2}=\\left(\\begin{array}{cc}\n",
    "M_{1} & C_1 & U_1\\\\\n",
    "C_2 & M_{2} & U_2 \\\\\n",
    "V_1 & V_{2} & M_3 \\\\\n",
    "\\end{array}\\right)\\left(\\begin{array}{c}\n",
    "x\\\\\n",
    "p_{x}\\\\\n",
    "y\\\\\n",
    "p_{y}\\\\\n",
    "z\\\\\n",
    "\\delta\n",
    "\\end{array}\\right)_{1}\n",
    "\\end{equation}"
   ]
  },
  {
   "cell_type": "code",
   "execution_count": 31,
   "metadata": {},
   "outputs": [
    {
     "data": {
      "image/png": "[encoded data removed]",
      "text/latex": [
       "$$\\left[\\begin{matrix}C_{2}^T S_{2} C_{2} + M_{1}^T S_{2} M_{1} + V_{1}^T S_{2} V_{1} & C_{2}^T S_{2} M_{2} + M_{1}^T S_{2} C_{1} + V_{1}^T S_{2} V_{2} & C_{2}^T S_{2} U_{2} + M_{1}^T S_{2} U_{1} + V_{1}^T S_{2} M_{3}\\\\C_{1}^T S_{2} M_{1} + M_{2}^T S_{2} C_{2} + V_{2}^T S_{2} V_{1} & C_{1}^T S_{2} C_{1} + M_{2}^T S_{2} M_{2} + V_{2}^T S_{2} V_{2} & C_{1}^T S_{2} U_{1} + M_{2}^T S_{2} U_{2} + V_{2}^T S_{2} M_{3}\\\\M_{3}^T S_{2} V_{1} + U_{1}^T S_{2} M_{1} + U_{2}^T S_{2} C_{2} & M_{3}^T S_{2} V_{2} + U_{1}^T S_{2} C_{1} + U_{2}^T S_{2} M_{2} & M_{3}^T S_{2} M_{3} + U_{1}^T S_{2} U_{1} + U_{2}^T S_{2} U_{2}\\end{matrix}\\right]$$"
      ],
      "text/plain": [
       "⎡  T           T           T          T           T           T          T    \n",
       "⎢C₂ ⋅S₂⋅C₂ + M₁ ⋅S₂⋅M₁ + V₁ ⋅S₂⋅V₁  C₂ ⋅S₂⋅M₂ + M₁ ⋅S₂⋅C₁ + V₁ ⋅S₂⋅V₂  C₂ ⋅S₂⋅\n",
       "⎢                                                                             \n",
       "⎢  T           T           T          T           T           T          T    \n",
       "⎢C₁ ⋅S₂⋅M₁ + M₂ ⋅S₂⋅C₂ + V₂ ⋅S₂⋅V₁  C₁ ⋅S₂⋅C₁ + M₂ ⋅S₂⋅M₂ + V₂ ⋅S₂⋅V₂  C₁ ⋅S₂⋅\n",
       "⎢                                                                             \n",
       "⎢  T           T           T          T           T           T          T    \n",
       "⎣M₃ ⋅S₂⋅V₁ + U₁ ⋅S₂⋅M₁ + U₂ ⋅S₂⋅C₂  M₃ ⋅S₂⋅V₂ + U₁ ⋅S₂⋅C₁ + U₂ ⋅S₂⋅M₂  M₃ ⋅S₂⋅\n",
       "\n",
       "       T           T      ⎤\n",
       "U₂ + M₁ ⋅S₂⋅U₁ + V₁ ⋅S₂⋅M₃⎥\n",
       "                          ⎥\n",
       "       T           T      ⎥\n",
       "U₁ + M₂ ⋅S₂⋅U₂ + V₂ ⋅S₂⋅M₃⎥\n",
       "                          ⎥\n",
       "       T           T      ⎥\n",
       "M₃ + U₁ ⋅S₂⋅U₁ + U₂ ⋅S₂⋅U₂⎦"
      ]
     },
     "execution_count": 31,
     "metadata": {},
     "output_type": "execute_result"
    }
   ],
   "source": [
    "import sympy \n",
    "sympy.init_printing(use_unicode=True)\n",
    "m1=sympy.MatrixSymbol('M_1', 2,2)\n",
    "m2=sympy.MatrixSymbol('M_2', 2,2)\n",
    "m3=sympy.MatrixSymbol('M_3', 2,2)\n",
    "u1=sympy.MatrixSymbol('U_1', 2,2)\n",
    "u2=sympy.MatrixSymbol('U_2', 2,2)\n",
    "c1=sympy.MatrixSymbol('C_1', 2,2)\n",
    "v1=sympy.MatrixSymbol('V_1', 2,2)\n",
    "v2=sympy.MatrixSymbol('V_2', 2,2)\n",
    "c2=sympy.MatrixSymbol('C_2', 2,2)\n",
    "\n",
    "s_2=sympy.MatrixSymbol('S_2', 2,2)\n",
    "#s_2=sympy.Matrix([[0,1],[-1,0]])\n",
    "zero=sympy.ZeroMatrix(2,2)\n",
    "M=sympy.BlockMatrix([[m1,c1,u1],[c2,m2,u2],[v1,v2,m3]])\n",
    "ss=sympy.BlockMatrix([[s_2,zero,zero],[zero,s_2,zero],[zero,zero,s_2]])\n",
    "sympy.block_collapse(M.T*ss*M)\n"
   ]
  },
  {
   "cell_type": "markdown",
   "metadata": {},
   "source": [
    "Therefore, we can get the relation of the determinant of each block:\n",
    "\\begin{align} \n",
    "\\det M_1 + \\det C_1 + \\det U_1 =1 \\\\\n",
    "\\det C_2 + \\det M_2 + \\det U_2 =1 \\\\\n",
    "\\det M_3 + \\det V_1 + \\det V_2 =1 \\\\\n",
    "\\end{align}\n",
    "and\n",
    "\\begin{align} \n",
    "\\det M_1 + \\det C_2 + \\det V_1 =1 \\\\\n",
    "\\det C_1 + \\det M_2 + \\det V_2 =1 \\\\\n",
    "\\det U_1 + \\det U_2 + \\det M_3 =1 \\\\\n",
    "\\end{align}"
   ]
  },
  {
   "cell_type": "code",
   "execution_count": null,
   "metadata": {},
   "outputs": [],
   "source": []
  },
  {
   "cell_type": "code",
   "execution_count": null,
   "metadata": {},
   "outputs": [],
   "source": []
  },
  {
   "cell_type": "code",
   "execution_count": null,
   "metadata": {},
   "outputs": [],
   "source": []
  },
  {
   "cell_type": "code",
   "execution_count": null,
   "metadata": {},
   "outputs": [],
   "source": []
  },
  {
   "cell_type": "code",
   "execution_count": null,
   "metadata": {},
   "outputs": [],
   "source": []
  },
  {
   "cell_type": "code",
   "execution_count": null,
   "metadata": {},
   "outputs": [],
   "source": []
  }
 ],
 "metadata": {
  "kernelspec": {
   "display_name": "Python 3",
   "language": "python",
   "name": "python3"
  },
  "language_info": {
   "codemirror_mode": {
    "name": "ipython",
    "version": 3
   },
   "file_extension": ".py",
   "mimetype": "text/x-python",
   "name": "python",
   "nbconvert_exporter": "python",
   "pygments_lexer": "ipython3",
   "version": "3.9.5"
  },
  "latex_envs": {
   "LaTeX_envs_menu_present": true,
   "autoclose": false,
   "autocomplete": true,
   "bibliofile": "biblio.bib",
   "cite_by": "apalike",
   "current_citInitial": 1,
   "eqLabelWithNumbers": true,
   "eqNumInitial": 1,
   "hotkeys": {
    "equation": "Ctrl-E",
    "itemize": "Ctrl-I"
   },
   "labels_anchors": false,
   "latex_user_defs": false,
   "report_style_numbering": true,
   "user_envs_cfg": false
  },
  "toc": {
   "base_numbering": 1,
   "nav_menu": {},
   "number_sections": true,
   "sideBar": true,
   "skip_h1_title": false,
   "title_cell": "Table of Contents",
   "title_sidebar": "Contents",
   "toc_cell": false,
   "toc_position": {},
   "toc_section_display": "block",
   "toc_window_display": true
  }
 },
 "nbformat": 4,
 "nbformat_minor": 2
}
