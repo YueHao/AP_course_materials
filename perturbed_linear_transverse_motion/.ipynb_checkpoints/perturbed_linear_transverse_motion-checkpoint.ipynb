{
 "cells": [
  {
   "cell_type": "code",
   "execution_count": null,
   "metadata": {},
   "outputs": [],
   "source": []
  },
  {
   "cell_type": "markdown",
   "metadata": {},
   "source": [
    "# Perturbation of transverse motion"
   ]
  },
  {
   "cell_type": "markdown",
   "metadata": {},
   "source": [
    "## Perturbed orbit"
   ]
  },
  {
   "cell_type": "markdown",
   "metadata": {},
   "source": [
    "The perturbed orbit rises from the dipole errors, which can be contributed from a dipole strength error or a quadrupole misalignment."
   ]
  },
  {
   "cell_type": "markdown",
   "metadata": {},
   "source": [
    "### Green function of Hill's equation"
   ]
  },
  {
   "cell_type": "markdown",
   "metadata": {},
   "source": [
    "At the present of the dipole error, the Hill's equation becomes:\n",
    "\\begin{equation}\n",
    "x''\\left(s\\right)+K\\left(s\\right)x\\left(s\\right)=\\frac{\\Delta B(s)}{B_0\\rho} \n",
    "\\end{equation}\n",
    "\n",
    "The solution can be retrieved from the Green's function method. The green function is the solution of:\n",
    "\n",
    "\\begin{equation}\n",
    "x''\\left(s\\right)+K\\left(s\\right)x\\left(s\\right)=\\theta\\delta\\left(s-s_0\\right)\n",
    "\\end{equation}\n",
    "\n",
    "This shows that a delta function dipole changes the orbit by $\\theta$ at location $s_0$\n",
    "\n",
    "Integrate the function at the vicinity of the $s_0$ gives:\n",
    "\\begin{equation}\n",
    "x'\\left(s_{0+}\\right)-x'\\left(s_{0-}\\right)=\\theta  \\label{eq:angle_kick}\n",
    "\\end{equation}"
   ]
  },
  {
   "cell_type": "markdown",
   "metadata": {},
   "source": [
    "#### Linac accelerator"
   ]
  },
  {
   "cell_type": "markdown",
   "metadata": {},
   "source": [
    "From the linear accelerator, the beam only pass $s_0$ once.  From the transfer matrix from $s_0$ to $s_1$\n",
    "\\begin{equation}\n",
    "M\\left(s_{1}\\mid s_{0}\\right)\n",
    "=\\left(\\begin{array}{cc}\n",
    "\\sqrt{{\\frac{\\beta_{1}}{\\beta_{0}}}}\\left(\\cos\\psi+\\alpha_{0}\\sin\\psi\\right) & \\sqrt{\\beta_{0}\\beta_{1}}\\sin\\psi\\\\\n",
    "-\\frac{1+\\alpha_{0}\\alpha_{1}}{\\sqrt{\\beta_{0}\\beta_{1}}}\\sin\\psi+\\frac{\\alpha_{0}-\\alpha_{1}}{\\sqrt{\\beta_{0}\\beta_{1}}}\\cos\\psi & \\sqrt{{\\frac{\\beta_{0}}{\\beta_{1}}}}\\left(\\cos\\psi-\\alpha_{1}\\sin\\psi\\right)\n",
    "\\end{array}\\right) \\label{eq:tmatrix_s0s1}\n",
    "\\end{equation}\n",
    "where $\\psi(s)=\\psi(s_1)-\\psi(s_0)$.\n",
    "We get the response of the delta dipole error, or the Green's function (normalized by $\\theta$) as:\n",
    "\n",
    "\\begin{equation}\n",
    "G(s, s_0)=\\frac{x(s)}{\\theta}=\\sqrt{\\beta_{s}\\beta_{s_0}}\\sin\\left(\\psi\\left(s\\right)-\\psi\\left(s_0\\right)\\right) H\\left(s-s_0\\right)\n",
    "\\end{equation}\n",
    "Here, $H(x)$ is the Heaviside step function."
   ]
  },
  {
   "cell_type": "markdown",
   "metadata": {},
   "source": [
    "Then for an arbitrary dipole error distribution $\\frac{\\Delta B(s)}{B_0\\rho}$, the centroid orbit becomes:\n",
    "\\begin{align}\n",
    "x(s)\n",
    "&=\\int_{-\\infty}^{\\infty}\\frac{\\Delta B(s_0)}{B_0\\rho}G(s,s_0)ds_0 \\nonumber\\\\\n",
    "&=\\sqrt{\\beta(s)}\\int_{-\\infty}^{s}\\frac{\\sqrt{\\beta(s_0)}\\Delta B(s_0)}{B_0\\rho}\\sin\\left(\\psi\\left(s\\right)-\\psi\\left(s_0\\right)\\right) ds_0\n",
    "\\end{align}"
   ]
  },
  {
   "cell_type": "markdown",
   "metadata": {},
   "source": [
    "#### Ring accelerator"
   ]
  },
  {
   "cell_type": "markdown",
   "metadata": {},
   "source": [
    "In ring accelerator, the beam will pass $s_0$ many times.  There exist a stable orbit, deviate from the reference orbit, due to the dipole error.  This is called closed orbit.  \n",
    "\n",
    "In every turn, the beam will have a kick at $s_0$ described in $\\ref{eq:angle_kick}$.  Combined with the one-turn matrix $M(s_0)$, \n",
    "\n",
    "\\begin{equation}\n",
    "M\\left(s_{0}\\right)=\n",
    "\\left(\\begin{array}{cc}\n",
    "\\cos\\Phi+\\alpha_{0}\\sin\\Phi & \\beta_{0}\\sin\\Phi\\\\\n",
    "-\\frac{1+\\alpha_{0}^{2}}{\\beta_{0}}\\sin\\Phi & \\cos\\Phi-\\alpha_{0}\\sin\\Phi\n",
    "\\end{array}\\right)\n",
    "\\end{equation}\n",
    "\n",
    "Here $\\Phi=2\\pi\\nu$. we have a closed orbit condition:\n",
    "\\begin{equation}\n",
    "\\left(\\begin{array}{c}\n",
    "x\\\\\n",
    "x'_{-}=x'_{+}-\\theta\n",
    "\\end{array}\\right)=\n",
    "\\left(\\begin{array}{cc}\n",
    "\\cos\\Phi+\\alpha_{0}\\sin\\Phi & \\beta_{0}\\sin\\Phi\\\\\n",
    "-\\frac{1+\\alpha_{0}^{2}}{\\beta_{0}}\\sin\\Phi & \\cos\\Phi-\\alpha_{0}\\sin\\Phi\n",
    "\\end{array}\\right)\n",
    "\\left(\\begin{array}{c}\n",
    "x\\\\\n",
    "x'_{+}\n",
    "\\end{array}\\right)\n",
    "\\end{equation}\n",
    "\n",
    "Solve the equation, we have:\n",
    "\\begin{equation}\n",
    "\\left(I-M\\right)\n",
    "\\left(\\begin{array}{c}\n",
    "x\\\\\n",
    "x'_{+}\n",
    "\\end{array}\\right) =\n",
    "\\left(\\begin{array}{c}\n",
    "0\\\\\n",
    "\\theta\n",
    "\\end{array}\\right)\n",
    "\\end{equation}\n",
    "\n",
    "From the $\\det(I-M)=2-2\\cos\\Phi$ the stable value of $x$ can be easily found as:\n",
    "\\begin{align}\n",
    "x(s_0)&=\\frac{\\beta\\left(s_0\\right)\\sin\\Phi}{2-2\\cos\\Phi}\\theta=\\frac{\\beta\\left(s_0\\right)\\cos\\pi\\nu}{2\\sin\\pi\\nu}\\theta \\\\\n",
    "x(s_{0+})&=\\frac{1-\\cos\\Phi-\\alpha\\sin\\Phi}{2-2\\cos\\Phi}\\theta=\\frac{\\sin\\pi\\nu-\\alpha\\left(s_0\\right)\\cos\\pi\\nu}{2\\sin\\pi\\nu}\\theta\n",
    "\\end{align}"
   ]
  },
  {
   "cell_type": "markdown",
   "metadata": {},
   "source": [
    "Here, the betatron tune is $\\nu$.  Then using the transfer matrix $\\ref{eq:tmatrix_s0s1}$, we get the Green's function:\n",
    "\\begin{align}\n",
    "G\\left(s,s_{0}\\right) & =\\frac{x(s)}{\\theta}\\nonumber\\\\\n",
    " & =\\frac{\\sqrt{\\beta\\left(s\\right)\\beta\\left(s_{0}\\right)}}{{2\\sin\\pi\\nu}}\\left(\\cos\\pi\\nu\\left(\\cos\\psi+\\alpha\\left(s_{0}\\right)\\sin\\psi\\right)+\\sin\\psi\\left(\\sin\\pi\\nu-\\alpha\\left(s_{0}\\right)\\cos\\pi\\nu\\right)\\right)\\nonumber\\\\\n",
    " & =\\frac{\\sqrt{\\beta\\left(s\\right)\\beta\\left(s_{0}\\right)}}{{2\\sin\\pi\\nu}}\\cos\\left(\\psi\\left(s\\right)-\\psi\\left(s_{0}\\right)-\\pi\\nu\\right)\n",
    "\\end{align}\n"
   ]
  },
  {
   "cell_type": "markdown",
   "metadata": {},
   "source": [
    "Therefore, for an arbitrary dipole error distribution $\\frac{\\Delta B(s)}{B_0\\rho}$, the closed orbit is simply:\n",
    "\\begin{align}\n",
    "x_{co}(s)&=\\int_{s}^{s+C}\\frac{\\Delta B(s_0)}{B_0\\rho}G\\left(s,s_{0}\\right) ds_0 \\\\\n",
    "&=\\frac{\\sqrt{\\beta\\left(s\\right)}}{2\\sin\\pi\\nu}\\int_{s}^{s+C}\\sqrt{\\beta\\left(s_0\\right)}\\frac{\\Delta B(s_0)}{B_0\\rho}\n",
    "\\cos\\left(\\psi\\left(s\\right)-\\psi\\left(s_{0}\\right)-\\pi\\nu\\right) ds_0\n",
    "\\end{align}"
   ]
  },
  {
   "cell_type": "markdown",
   "metadata": {},
   "source": [
    "Let's define the 'rotating angle' to $\\phi(s)=\\psi(s)/\\nu$, then\n",
    "\\begin{align}\n",
    "d\\phi=\\frac{1}{\\nu}\\frac{d\\psi}{ds}ds=\\frac{1}{\\nu \\beta}ds\n",
    "\\end{align} \n",
    "\n",
    "Therefore: \n",
    "\\begin{align}\n",
    "x_{co}(s)&=\\frac{\\nu\\sqrt{\\beta\\left(s\\right)}}{2\\sin(\\pi\\nu)}\\int_{\\phi(s)}^{\\phi(s)+2\\pi}\\sqrt{\\beta\\left(\\phi\\right)^3}\\frac{\\Delta B(\\phi)}{B_0\\rho}\n",
    "\\cos\\nu\\left(\\phi\\left(s\\right)-\\phi-\\pi\\right) d\\phi\n",
    "\\end{align}"
   ]
  },
  {
   "cell_type": "markdown",
   "metadata": {},
   "source": [
    "The advantage of writing the integral using the 'rotating angle' is to perform Fourier analysis easily.  We can expand:\n",
    "\\begin{align}\n",
    "\\beta^{3/2}(\\phi)\\frac{\\Delta B(\\phi)}{B_0\\rho}=\\sum_{m=-\\infty}^{\\infty}f_m e^{im\\phi}\n",
    "\\end{align}"
   ]
  },
  {
   "cell_type": "markdown",
   "metadata": {},
   "source": [
    "Then the closed orbit is written as:\n",
    "\\begin{align}\n",
    "x_{co}&=\\sqrt{\\beta\\left(s\\right)}\\sum_{m=-\\infty}^{\\infty}\n",
    "\\frac{\\nu^2 f_m}{\\nu^2-m^2} e^{im\\phi(s)}\n",
    "\\end{align}\n",
    "\n",
    "We can see clearly that only the harmonic of the error close to the betatron tune will contribute the most on the closed orbit.  The following picture shows the comparision of integer and half-integer tune under dipole error.\n",
    "![integer_tune](dipole_error_integer_tune.png)"
   ]
  },
  {
   "cell_type": "markdown",
   "metadata": {},
   "source": [
    "## Perturbed Tune"
   ]
  },
  {
   "cell_type": "markdown",
   "metadata": {},
   "source": [
    "The gradient error of the quadrupole contribute to the perturbation of the betatron tune.  Similar to the dipole errors, we start from the delta function response:\n",
    "\n",
    "\\begin{equation}\n",
    "x''\\left(s\\right)+K\\left(s\\right)x\\left(s\\right)=-(kds)\\delta(s-s_0)x(s)\n",
    "\\end{equation}"
   ]
  },
  {
   "cell_type": "markdown",
   "metadata": {},
   "source": [
    "We can easily find the tune change from the perturbed matrix as\n",
    "\n",
    "\\begin{align}\n",
    "M_{perturbed}&=\n",
    "M\\left(s_{0}\\right)\n",
    "\\left(\\begin{array}{cc}\n",
    "1 & 0\\\\\n",
    "-kds & 1\n",
    "\\end{array}\\right)\\nonumber\\\\\n",
    "&=\n",
    "\\left(\\begin{array}{cc}\n",
    "\\cos\\Phi+\\alpha_{0}\\sin\\Phi & \\beta_{0}\\sin\\Phi\\\\\n",
    "-\\frac{1+\\alpha_{0}^{2}}{\\beta_{0}}\\sin\\Phi & \\cos\\Phi-\\alpha_{0}\\sin\\Phi\n",
    "\\end{array}\\right)\n",
    "\\left(\\begin{array}{cc}\n",
    "1 & 0\\\\\n",
    "-kds & 1\n",
    "\\end{array}\\right) \\nonumber\\\\\n",
    "&=\\left(\\begin{array}{cc}\n",
    "\\cos\\Phi+\\alpha_{0}\\sin\\Phi-kds\\beta_{0}\\sin\\Phi & \\beta_{0}\\sin\\Phi\\\\\n",
    "-\\frac{1+\\alpha_{0}^{2}}{\\beta_{0}}\\sin\\Phi-kds(\\cos\\Phi-\\alpha_{0}\\sin\\Phi)& \\cos\\Phi-\\alpha_{0}\\sin\\Phi\n",
    "\\end{array}\\right)\n",
    "\\end{align}\n"
   ]
  },
  {
   "cell_type": "markdown",
   "metadata": {},
   "source": [
    "Treat the tune change to be small, therefore the phase advance change is given by\n",
    "\\begin{align}\n",
    "\\Delta \\Phi &\\approx-\\frac{\\cos\\Phi_n-\\cos\\Phi}{\\sin\\Phi} \\nonumber\\\\\n",
    "&=\\frac{1}{2}\\beta_0 k ds\n",
    "\\end{align}"
   ]
  },
  {
   "cell_type": "markdown",
   "metadata": {},
   "source": [
    "Therefore the tune shift is just:\n",
    "\\begin{align}\n",
    "\\Delta \\nu= \\frac{1}{4\\pi}\\oint \\beta(s)k(s)ds\n",
    "\\end{align}"
   ]
  },
  {
   "cell_type": "markdown",
   "metadata": {},
   "source": [
    "Consider the location $s_1$, the one turn matrix can be found as:\n",
    "\\begin{align}\n",
    "M(s_1)=M(s_1,s_0)M(s|_0)M(s_0,s_1)\n",
    "\\end{align}\n",
    "\n",
    "The change of $m_{12}$ element of $M(s_1)$ is:\n",
    "\\begin{align}\n",
    "\\Delta m_{12}=-kds\\beta_0\\beta_1\\sin(\\psi_0-\\psi_1)\n",
    "\\sin(2\\pi\\nu_0+\\psi_1-\\psi_0)\n",
    "\\end{align}\n",
    "The change of the beta function at $s_1$ is simply:\n",
    "\\begin{align}\n",
    "\\Delta \\beta_1&=\\frac{1}{\\sin\\Phi}\\left(\\Delta m_{12}-\\beta_1\\cos\\Phi\\Delta\\Phi \\right)\n",
    "\\end{align}"
   ]
  },
  {
   "cell_type": "markdown",
   "metadata": {},
   "source": [
    "Therefore the beta function error gives:\n",
    "\\begin{align}\n",
    "\\frac{\\Delta \\beta_1}{\\beta_1}&=\\frac{-1}{2\\sin\\Phi}\\int_{s}^{s+C} k(s_0)\\beta(s_0)\n",
    "\\cos\\left(\\psi\\left(s\\right)-\\psi\\left(s_{0}\\right)+2\\pi\\nu\\right) ds_0\n",
    "\\end{align}"
   ]
  },
  {
   "cell_type": "markdown",
   "metadata": {},
   "source": [
    "Follow the similar procedure as in the orbit error, define the Fourier sequence of the quad errors:\n",
    "\\begin{align}\n",
    "\\beta^{2}(\\phi)k(\\phi)=\\sum_{m=-\\infty}^{\\infty}f_m e^{im\\phi}\n",
    "\\end{align}\n",
    "we have:\n",
    "\\begin{align}\n",
    "\\frac{\\Delta \\beta}{\\beta}=-\\frac{1}{2}\\sum_{m=-\\infty}^{\\infty}\n",
    "\\frac{\\nu^2 f_m}{\\nu^2-(m/2)^2} e^{im\\phi(s)}\n",
    "\\end{align}\n",
    "\n",
    "Note that the half integer tune is not stable under the quadrupole errors."
   ]
  },
  {
   "cell_type": "code",
   "execution_count": null,
   "metadata": {},
   "outputs": [],
   "source": []
  }
 ],
 "metadata": {
  "kernelspec": {
   "display_name": "Python 3",
   "language": "python",
   "name": "python3"
  },
  "language_info": {
   "codemirror_mode": {
    "name": "ipython",
    "version": 3
   },
   "file_extension": ".py",
   "mimetype": "text/x-python",
   "name": "python",
   "nbconvert_exporter": "python",
   "pygments_lexer": "ipython3",
   "version": "3.6.3"
  },
  "toc": {
   "nav_menu": {},
   "number_sections": true,
   "sideBar": true,
   "skip_h1_title": false,
   "toc_cell": false,
   "toc_position": {},
   "toc_section_display": "block",
   "toc_window_display": true
  }
 },
 "nbformat": 4,
 "nbformat_minor": 2
}
